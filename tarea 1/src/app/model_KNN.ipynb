{
 "cells": [
  {
   "cell_type": "code",
   "execution_count": 2,
   "metadata": {},
   "outputs": [],
   "source": [
    "import pandas as pd # para manejar los datos\n",
    "import numpy as np # para operaciones numéricas\n",
    "from sklearn.preprocessing import StandardScaler # escalado de características\n",
    "from scipy.spatial.distance import cdist # cálculo de distancias\n",
    "import matplotlib.pyplot as plt # para visualizaciones\n",
    "\n",
    "# Cargar datasets de entrenamiento y test\n",
    "datosTrain = pd.read_csv(\"../datos-estadistica/X_train.csv\", header=0)\n",
    "datosTest = pd.read_csv(\"../datos-estadistica/X_test.csv\", header=0)\n",
    "\n",
    "# Normalizar los datos\n",
    "normalizador = StandardScaler()\n",
    "trainNormalizado = normalizador.fit_transform(datosTrain.drop('City', axis=1, inplace=False))\n",
    "testNormalizado = normalizador.fit_transform(datosTest.drop('City', axis=1, inplace=False))\n",
    "\n",
    "# Inicializa los puntos centrales aleatorios\n",
    "def inicializarPuntos(df, numPuntos):\n",
    "    return df[np.random.choice(df.shape[0], numPuntos, replace=False)]\n",
    "\n",
    "# Asigna cada dato al centroide más cercano\n",
    "def asignarGrupos(df, puntosCentrales):\n",
    "    distanciasPuntos = cdist(df, puntosCentrales, 'euclidean')\n",
    "    return np.argmin(distanciasPuntos, axis=1)\n",
    "\n",
    "# Actualiza los centroides basándose en la media de los puntos asignados\n",
    "def recalcularCentros(df, etiquetas, numPuntos):\n",
    "    nuevosCentros = np.zeros((numPuntos, df.shape[1]))\n",
    "    for i in range(numPuntos):\n",
    "        puntosAsignados = df[etiquetas == i]\n",
    "        nuevosCentros[i, :] = puntosAsignados.mean(axis=0)\n",
    "    return nuevosCentros\n",
    "\n",
    "# Implementación del algoritmo K-means\n",
    "def aplicarKMeans(df, numClusters, iterMax=6, tolerancia=1e-5):\n",
    "    puntosCentrales = inicializarPuntos(df, numClusters)\n",
    "    \n",
    "    for _ in range(iterMax):\n",
    "        grupos = asignarGrupos(df, puntosCentrales)\n",
    "        nuevosCentros = recalcularCentros(df, grupos, numClusters)\n",
    "        \n",
    "        # Criterio de parada (convergencia)\n",
    "        if np.all(np.abs(nuevosCentros == puntosCentrales)):\n",
    "            break\n",
    "        \n",
    "        puntosCentrales = nuevosCentros\n",
    "    \n",
    "    return puntosCentrales, grupos\n",
    "\n",
    "# Ejecutar K-means en el conjunto de entrenamiento\n",
    "k = 6\n",
    "centroides, gruposAsignados = aplicarKMeans(trainNormalizado, k)\n",
    "datosTrain['Cluster'] = gruposAsignados\n",
    "datosTest['Cluster_Pred'] = asignarGrupos(testNormalizado, centroides)\n"
   ]
  },
  {
   "cell_type": "code",
   "execution_count": 3,
   "metadata": {},
   "outputs": [],
   "source": [
    "# Función para encontrar la ciudad más cercana en el conjunto de prueba\n",
    "def buscarCiudadCercana(testNormalizado, datosTrain, datosTest, normalizador):\n",
    "    ciudadesVecinas = []\n",
    "    \n",
    "    for i, fila in datosTest.iterrows():\n",
    "        clusterAsignado = fila['Cluster_Pred']\n",
    "        \n",
    "        # Filtrar las ciudades del mismo cluster\n",
    "        ciudadesCluster = datosTrain[datosTrain['Cluster'] == clusterAsignado]\n",
    "        \n",
    "        # Escalar las ciudades seleccionadas usando el normalizador\n",
    "        ciudadesEscaladas = normalizador.transform(ciudadesCluster.drop(['City', 'Cluster'], axis=1))\n",
    "        \n",
    "        # Calcular la distancia entre la ciudad de prueba y las ciudades del cluster\n",
    "        distancias = cdist([testNormalizado[i]], ciudadesEscaladas, 'euclidean')\n",
    "        \n",
    "        # Obtener el índice de la ciudad más cercana\n",
    "        idxCiudadCercana = np.argmin(distancias)\n",
    "        \n",
    "        # Extraer el nombre de la ciudad más cercana\n",
    "        ciudadProxima = ciudadesCluster.iloc[idxCiudadCercana]['City']\n",
    "        \n",
    "        ciudadesVecinas.append(ciudadProxima)\n",
    "    \n",
    "    return ciudadesVecinas\n",
    "\n",
    "# Función para asignar la ciudad más cercana a los puntos de prueba\n",
    "def asignarCiudadesProximas(testNormalizado, datosTrain, datosTest, normalizador):\n",
    "    ciudadesCercanas = buscarCiudadCercana(testNormalizado, datosTrain, datosTest, normalizador)\n",
    "    \n",
    "    # Añadir la ciudad más cercana al dataframe de prueba\n",
    "    datosTest['CiudadCercana'] = ciudadesCercanas\n",
    "    return datosTest\n",
    "\n",
    "# Generar archivo CSV de salida con los resultados\n",
    "def generarCSVSalida(datosTest):\n",
    "    resultado = datosTest[['City', 'CiudadCercana']]\n",
    "    \n",
    "    # Renombrar columnas para cumplir con el formato de salida\n",
    "    resultado.columns = ['ID', 'label']\n",
    "    \n",
    "    # Guardar los resultados en un archivo CSV\n",
    "    resultado.to_csv('../submission.csv', index=False)\n",
    "\n",
    "# Llamar a las funciones\n",
    "datosTest = asignarCiudadesProximas(testNormalizado, datosTrain, datosTest, normalizador)\n",
    "generarCSVSalida(datosTest)"
   ]
  },
  {
   "cell_type": "code",
   "execution_count": 3,
   "metadata": {},
   "outputs": [],
   "source": [
    "df_submission = pd.read_csv('submission.csv')\n",
    "df_submission.dropna(how='all', inplace=True)  # Elimina filas donde todos los valores sean NaN\n",
    "df_submission.to_csv('submission.csv', index=False)"
   ]
  },
  {
   "cell_type": "code",
   "execution_count": 4,
   "metadata": {},
   "outputs": [
    {
     "data": {
      "image/png": "[encoded data removed]",
      "text/plain": [
       "<Figure size 1000x700 with 1 Axes>"
      ]
     },
     "metadata": {},
     "output_type": "display_data"
    }
   ],
   "source": [
    "# Cálculo del dendograma con distancia máxima \n",
    "def calculate_distance_matrix(data):\n",
    "    num_samples = data.shape[0]\n",
    "    distance_matrix = np.zeros((num_samples, num_samples))\n",
    "    for i in range(num_samples):\n",
    "        for j in range(i+1, num_samples):\n",
    "            distance = np.linalg.norm(data[i] - data[j])\n",
    "            distance_matrix[i, j] = distance\n",
    "            distance_matrix[j, i] = distance\n",
    "    return distance_matrix\n",
    "\n",
    "def initialize_clusters(num_samples):\n",
    "    return [[i] for i in range(num_samples)]\n",
    "\n",
    "def hierarchical_clustering(distance_matrix, clusters):\n",
    "    num_samples = distance_matrix.shape[0]\n",
    "    dendrogram = []\n",
    "    while len(clusters) > 1:\n",
    "        min_distance = float('inf')\n",
    "        merge_pair = None\n",
    "\n",
    "        for i in range(len(clusters)):\n",
    "            for j in range(i + 1, len(clusters)):\n",
    "                distance = max([distance_matrix[p1, p2] for p1 in clusters[i] for p2 in clusters[j]])\n",
    "                if distance < min_distance:\n",
    "                    min_distance = distance\n",
    "                    merge_pair = (i, j)\n",
    "\n",
    "        cluster1, cluster2 = merge_pair\n",
    "        new_cluster = clusters[cluster1] + clusters[cluster2]\n",
    "        clusters = [clusters[i] for i in range(len(clusters)) if i not in merge_pair]\n",
    "        clusters.append(new_cluster)\n",
    "        \n",
    "        dendrogram.append((cluster1, cluster2, min_distance))\n",
    "        \n",
    "    return dendrogram\n",
    "\n",
    "def plot_dendrogram(dendrogram, num_samples):\n",
    "    plt.figure(figsize=(10, 7))\n",
    "    heights = [x[2] for x in dendrogram]\n",
    "    for i, (c1, c2, height) in enumerate(dendrogram):\n",
    "        plt.plot([c1, c2], [height, height], 'k-')\n",
    "        plt.plot([c1, c1], [0, height], 'k--')\n",
    "        plt.plot([c2, c2], [0, height], 'k--')\n",
    "    plt.title('Dendograma con Distancia Máxima')\n",
    "    plt.xlabel('Clusters')\n",
    "    plt.ylabel('Distancia')\n",
    "    plt.show()\n",
    "\n",
    "# Cálculos\n",
    "distance_matrix = calculate_distance_matrix(trainNormalizado)\n",
    "clusters = initialize_clusters(trainNormalizado.shape[0])\n",
    "dendrogram = hierarchical_clustering(distance_matrix, clusters)\n",
    "plot_dendrogram(dendrogram, trainNormalizado.shape[0])"
   ]
  },
  {
   "cell_type": "code",
   "execution_count": 5,
   "metadata": {},
   "outputs": [],
   "source": [
    "# Ruta al archivo Excel de todos los datos \n",
    "ruta_archivo = \"../datos-estadistica/datos.xlsx\"\n",
    "\n",
    "# Leer el archivo Excel\n",
    "df = pd.read_excel(ruta_archivo)\n",
    "\n",
    "data = df[['GDP (USD Billion)', 'Population (Millions)']].values\n",
    "# Normalizar los datos\n",
    "def normalize_data(data):\n",
    "    n = len(data)\n",
    "    means = [sum(row[i] for row in data) / n for i in range(len(data[0]))]\n",
    "    std_devs = [((sum((row[i] - means[i]) ** 2 for row in data) / n) ** 0.5) for i in range(len(data[0]))]\n",
    "    normalized = [[(row[i] - means[i]) / std_devs[i] for i in range(len(row))] for row in data]\n",
    "    return normalized, means, std_devs\n",
    "\n",
    "data_normalized, mean, std_dev = normalize_data(data)"
   ]
  },
  {
   "cell_type": "code",
   "execution_count": 6,
   "metadata": {},
   "outputs": [
    {
     "name": "stdout",
     "output_type": "stream",
     "text": [
      "Matriz de Covarianza:\n",
      "[1.0344827586206895, 1.0246659968794567]\n",
      "[1.0246659968794567, 1.0344827586206895]\n"
     ]
    }
   ],
   "source": [
    "def compute_covariance_matrix(data):\n",
    "    n = len(data)\n",
    "    m = len(data[0])\n",
    "    cov_matrix = [[0] * m for _ in range(m)]\n",
    "    for i in range(m):\n",
    "        for j in range(m):\n",
    "            cov_matrix[i][j] = sum(data[k][i] * data[k][j] for k in range(n)) / (n - 1)\n",
    "    return cov_matrix\n",
    "\n",
    "cov_matrix = compute_covariance_matrix(data_normalized)\n",
    "print(\"Matriz de Covarianza:\")\n",
    "for row in cov_matrix:\n",
    "    print(row)"
   ]
  },
  {
   "cell_type": "code",
   "execution_count": 7,
   "metadata": {},
   "outputs": [
    {
     "name": "stdout",
     "output_type": "stream",
     "text": [
      "Eigenvalues:\n",
      " [2.059148755500146, 6.660626602072578e-16]\n",
      "Eigenvectors:\n",
      " [[0.7071067811865475, 0.7071067811865475], [0.7071067811865476, 0.7071067811865476]]\n"
     ]
    }
   ],
   "source": [
    "#Calcular Eigenvalues y Eigenvectors\n",
    "def power_method(matrix, num_iterations=1000, tolerance=1e-6):\n",
    "    n = len(matrix)\n",
    "    b = [1] * n\n",
    "    for _ in range(num_iterations):\n",
    "        # Multiplicación de la matriz por b\n",
    "        b_next = [sum(matrix[i][j] * b[j] for j in range(n)) for i in range(n)]\n",
    "        norm = sum(x ** 2 for x in b_next) ** 0.5\n",
    "        b_next = [x / norm for x in b_next]\n",
    "        # Verificar convergencia\n",
    "        if sum(abs(b_next[i] - b[i]) for i in range(n)) < tolerance:\n",
    "            break\n",
    "        b = b_next\n",
    "    eigenvalue = sum(b[i] * sum(matrix[i][j] * b[j] for j in range(n)) for i in range(n))\n",
    "    return eigenvalue, b\n",
    "\n",
    "def compute_eigenvalues_and_eigenvectors(matrix):\n",
    "    n = len(matrix)\n",
    "    eigenvalues = []\n",
    "    eigenvectors = []\n",
    "    for _ in range(n):\n",
    "        eigenvalue, eigenvector = power_method(matrix)\n",
    "        eigenvalues.append(eigenvalue)\n",
    "        eigenvectors.append(eigenvector)\n",
    "        # Deflacionar la matriz\n",
    "        matrix = [[matrix[i][j] - eigenvalue * eigenvector[i] * eigenvector[j] for j in range(n)] for i in range(n)]\n",
    "    return eigenvalues, eigenvectors\n",
    "\n",
    "eigenvalues, eigenvectors = compute_eigenvalues_and_eigenvectors(cov_matrix)\n",
    "print(\"Eigenvalues:\\n\", eigenvalues)\n",
    "print(\"Eigenvectors:\\n\", eigenvectors)\n"
   ]
  },
  {
   "cell_type": "code",
   "execution_count": 8,
   "metadata": {},
   "outputs": [
    {
     "name": "stdout",
     "output_type": "stream",
     "text": [
      "Varianza Explicada por el Eigenvalue:\n",
      " [0.9999999999999998, 3.234650524534241e-16]\n"
     ]
    }
   ],
   "source": [
    "#Calcular la Varianza Explicada por el Eigenvalue\n",
    "def variance_explained(eigenvalues):\n",
    "    total_variance = sum(eigenvalues)\n",
    "    return [eigenvalue / total_variance for eigenvalue in eigenvalues]\n",
    "\n",
    "explained_variance_ratio = variance_explained(eigenvalues)\n",
    "print(\"Varianza Explicada por el Eigenvalue:\\n\", explained_variance_ratio)\n"
   ]
  },
  {
   "cell_type": "code",
   "execution_count": 9,
   "metadata": {},
   "outputs": [
    {
     "name": "stdout",
     "output_type": "stream",
     "text": [
      "Valor del Eigenvector Principal:\n",
      " [0.7071067811865475, 0.7071067811865475]\n"
     ]
    }
   ],
   "source": [
    "#Obtener el Eigenvector Principal\n",
    "def get_principal_eigenvector(eigenvalues, eigenvectors):\n",
    "    max_index = eigenvalues.index(max(eigenvalues))\n",
    "    return eigenvectors[max_index]\n",
    "\n",
    "principal_eigenvector = get_principal_eigenvector(eigenvalues, eigenvectors)\n",
    "print(\"Valor del Eigenvector Principal:\\n\", principal_eigenvector)\n"
   ]
  },
  {
   "cell_type": "code",
   "execution_count": 10,
   "metadata": {},
   "outputs": [
    {
     "name": "stdout",
     "output_type": "stream",
     "text": [
      "Matriz Proyectada:\n",
      " [6.850254902970839, 2.2542914886585734, 1.289860705902846, 0.5559990515941917, 0.22215487242440524, -0.22552843029010897, -0.28371492170438956, -0.33878373663741, -0.3124044862854518, -0.349819854129487, -0.33577783268351447, -0.35363312033553873, -0.42826201546057013, -0.44611730311259434, -0.46928880894761804, -0.4835326709566296, -0.5067041767916534, -0.5368966933496633, -0.5334871082696897, -0.58855592320271, -0.6187484397607199, -0.5851463381227364, -0.6419199455957436, -0.6740190952567795, -0.6776305208997921, -0.13264056638697524, -0.11640000323926344, -0.24950729837728886, -0.6544590150647684, -0.629582716689758]\n"
     ]
    }
   ],
   "source": [
    "#Calcular la Matriz Proyectada\n",
    "def project_data(data_normalized, principal_eigenvector):\n",
    "    return [sum(row[i] * principal_eigenvector[i] for i in range(len(row))) for row in data_normalized]\n",
    "\n",
    "data_pca = project_data(data_normalized, principal_eigenvector)\n",
    "print(\"Matriz Proyectada:\\n\", data_pca)\n"
   ]
  },
  {
   "cell_type": "code",
   "execution_count": 11,
   "metadata": {},
   "outputs": [],
   "source": [
    "def reconstruct_data(projected_data, principal_eigenvector):\n",
    "    # Reconstrucción\n",
    "    reconstructed_data = []\n",
    "    for proj in projected_data:\n",
    "        recon = [proj * eig for eig in principal_eigenvector]\n",
    "        reconstructed_data.append(recon)\n",
    "    return reconstructed_data"
   ]
  },
  {
   "cell_type": "code",
   "execution_count": 12,
   "metadata": {},
   "outputs": [
    {
     "name": "stdout",
     "output_type": "stream",
     "text": [
      "Error de Reconstrucción:\n",
      " 0.2846860904957457\n"
     ]
    }
   ],
   "source": [
    "# error en la recontruccion\n",
    "def reconstruction_error(original_data, reconstructed_data):\n",
    "    error = sum(sum((orig - recon) ** 2 for orig, recon in zip(orig_row, recon_row)) for orig_row, recon_row in zip(original_data, reconstructed_data))\n",
    "    return error\n",
    "\n",
    "data_pca = project_data(data_normalized, principal_eigenvector)\n",
    "reconstructed_data = reconstruct_data(data_pca, principal_eigenvector)\n",
    "error = reconstruction_error(data_normalized, reconstructed_data)\n",
    "\n",
    "print(\"Error de Reconstrucción:\\n\", error)"
   ]
  },
  {
   "cell_type": "code",
   "execution_count": 61,
   "metadata": {},
   "outputs": [
    {
     "name": "stdout",
     "output_type": "stream",
     "text": [
      "varia 1.9999999999999996\n",
      "error en porcentaje 14.234 %\n"
     ]
    }
   ],
   "source": [
    "def reconstruction_error_percentage(original_data, reconstructed_data):\n",
    "    # Calcular el error de reconstrucción\n",
    "    error_total = reconstruction_error(original_data, reconstructed_data)\n",
    "\n",
    "\n",
    "    data_longitud = len(original_data)\n",
    "    # Calcular la varianza total de los datos originales\n",
    "    total_variance = sum(sum(orig ** 2 for orig in orig_row) for orig_row in original_data)/data_longitud\n",
    "    print(\"varia\", total_variance)\n",
    "    # Calcular el error en porcentaje\n",
    "    error_percentage = (error_total / total_variance) * 100\n",
    "    return error_percentage\n",
    "\n",
    "error_percentaje = reconstruction_error_percentage(data_normalized, reconstructed_data)\n",
    "print(\"error en porcentaje\",round(error_percentaje,3),\"%\")"
   ]
  },
  {
   "cell_type": "code",
   "execution_count": 13,
   "metadata": {},
   "outputs": [
    {
     "data": {
      "image/png": "[encoded data removed]",
      "text/plain": [
       "<Figure size 600x400 with 1 Axes>"
      ]
     },
     "metadata": {},
     "output_type": "display_data"
    }
   ],
   "source": [
    "#pintar en una dimension\n",
    "city_names = df['City'].values \n",
    "def plot_1d(data_pca, city_names):\n",
    "    \"\"\"Pinta los datos proyectados en 1D.\"\"\"\n",
    "    plt.figure(figsize=(6, 4))\n",
    "    plt.scatter(data_pca, [0] * len(data_pca), c='blue', marker='o')\n",
    "    for i, city in enumerate(city_names):\n",
    "        plt.text(data_pca[i], 0.05, city[0], fontsize=8)\n",
    "    plt.title(\"Ciudades en 1 Dimensión (PCA)\")\n",
    "    plt.xlabel(\"Componente Principal\")\n",
    "    plt.yticks([])\n",
    "    plt.show()\n",
    "\n",
    "plot_1d(data_pca,city_names)\n"
   ]
  },
  {
   "cell_type": "code",
   "execution_count": 15,
   "metadata": {},
   "outputs": [
    {
     "data": {
      "image/png": "[encoded data removed]",
      "text/plain": [
       "<Figure size 800x400 with 1 Axes>"
      ]
     },
     "metadata": {},
     "output_type": "display_data"
    }
   ],
   "source": [
    "def plot_2d(data, city_names):\n",
    "    \"\"\"Pinta los datos originales en 2D.\"\"\"\n",
    "    plt.figure(figsize=(8, 4))\n",
    "    \n",
    "    # Graficar los puntos\n",
    "    plt.scatter([row[0] for row in data], [row[1] for row in data], c='blue', marker='o')\n",
    "    \n",
    "    # Añadir etiquetas para cada ciudad\n",
    "    for i, city in enumerate(city_names):\n",
    "        plt.text(data[i][0], data[i][1], city, fontsize=8)\n",
    "    \n",
    "    plt.title(\"Ciudades en 2 Dimensiones\")\n",
    "    plt.xlabel(\"GDP (USD Billion)\")\n",
    "    plt.ylabel(\"Population (Millions)\")\n",
    "    plt.show()\n",
    "\n",
    "# Suposición: 'data' contiene dos columnas: GDP y Población\n",
    "# 'city_names' contiene los nombres de las ciudades\n",
    "plot_2d(data, city_names)\n"
   ]
  }
 ],
 "metadata": {
  "kernelspec": {
   "display_name": "Python 3",
   "language": "python",
   "name": "python3"
  },
  "language_info": {
   "codemirror_mode": {
    "name": "ipython",
    "version": 3
   },
   "file_extension": ".py",
   "mimetype": "text/x-python",
   "name": "python",
   "nbconvert_exporter": "python",
   "pygments_lexer": "ipython3",
   "version": "3.9.7"
  }
 },
 "nbformat": 4,
 "nbformat_minor": 2
}
