{
 "cells": [
  {
   "cell_type": "code",
   "execution_count": null,
   "metadata": {},
   "outputs": [],
   "source": [
    "import os\n",
    "import numpy as np\n",
    "import pandas as pd\n",
    "import tensorflow as tf\n",
    "from tensorflow import keras\n",
    "from tensorflow.keras import layers # type: ignore\n",
    "from sklearn.model_selection import train_test_split\n",
    "from sklearn.preprocessing import LabelEncoder\n",
    "from sklearn.linear_model import LogisticRegression\n",
    "from tensorflow import keras\n",
    "from tensorflow.keras import layers, regularizers\n",
    "from tensorflow.keras.optimizers import Adam\n",
    "from tensorflow.keras.callbacks import ReduceLROnPlateau, EarlyStopping\n",
    "from sklearn.metrics import accuracy_score, confusion_matrix\n",
    "import glob\n",
    "import cv2\n",
    "import matplotlib.pyplot as plt\n",
    "import seaborn as sns\n"
   ]
  },
  {
   "cell_type": "code",
   "execution_count": 1,
   "metadata": {},
   "outputs": [],
   "source": [
    "IMAGE_SIZE = (90,90)  # Standard size for many CNN models\n",
    "\n",
    "NUM_CLASSES = 16  # Update based on your specific dataset\n",
    "\n",
    "def load_and_preprocess_images(image_paths, label_encoder=None):\n",
    "    images = []\n",
    "    labels = []\n",
    "    \n",
    "    for path in image_paths:\n",
    "        # Extract label from path\n",
    "        label = path.split(os.path.sep)[-2]\n",
    "        \n",
    "        # Read image\n",
    "        img = cv2.imread(path)\n",
    "        img = cv2.resize(img, IMAGE_SIZE)\n",
    "        img = cv2.cvtColor(img, cv2.COLOR_BGR2RGB)\n",
    "        \n",
    "        # Normalize pixel values\n",
    "        img = img / 255.0\n",
    "        \n",
    "        images.append(img)\n",
    "        labels.append(label)\n",
    "    \n",
    "    # Encode labels\n",
    "    if label_encoder is None:\n",
    "        label_encoder = LabelEncoder()\n",
    "        labels = label_encoder.fit_transform(labels)\n",
    "    else:\n",
    "        labels = label_encoder.transform(labels)\n",
    "    \n",
    "    return np.array(images), labels, label_encoder "
   ]
  },
  {
   "cell_type": "code",
   "execution_count": 141,
   "metadata": {},
   "outputs": [],
   "source": [
    "from tensorflow.keras.models import Sequential\n",
    "from tensorflow.keras.layers import Conv2D, MaxPooling2D, Flatten, Dense, Dropout\n",
    "from tensorflow.keras.optimizers import Adam\n",
    "\n",
    "def create_optimized_cnn(input_shape, num_classes, learning_rate):\n",
    "    model = Sequential([\n",
    "        Conv2D(32, (3, 3), activation='relu', input_shape=input_shape),\n",
    "        MaxPooling2D((2, 2)),\n",
    "        Dropout(0.3),\n",
    "\n",
    "        Flatten(),\n",
    "        Dense(100, activation='sigmoid'),\n",
    "        Dropout(0.1),\n",
    "        \n",
    "        Dense(num_classes, activation='softmax')\n",
    "    ])\n",
    "    \n",
    "    optimizer = Adam(learning_rate=learning_rate)\n",
    "    model.compile(optimizer=optimizer, loss='sparse_categorical_crossentropy', metrics=['accuracy'])\n",
    "    return model\n"
   ]
  },
  {
   "cell_type": "code",
   "execution_count": null,
   "metadata": {},
   "outputs": [],
   "source": [
    "# Load image paths (modify according to your dataset structure)\n",
    "train_image_paths = glob.glob('../datos/train/**/*.png', recursive=True)\n",
    "\n",
    "# Preprocess training images\n",
    "X_train, y_train, label_encoder = load_and_preprocess_images(train_image_paths)\n",
    "print(f\"Tamaño de X_train: {X_train.shape}, Tamaño de y_train: {len(y_train)}\")"
   ]
  },
  {
   "cell_type": "code",
   "execution_count": 145,
   "metadata": {},
   "outputs": [
    {
     "name": "stdout",
     "output_type": "stream",
     "text": [
      "Longitud de X_train: 4324, Longitud de y_train: 4324\n"
     ]
    }
   ],
   "source": [
    "# Verifica que el número de muestras sea el mismo\n",
    "print(f\"Longitud de X_train: {len(X_train)}, Longitud de y_train: {len(y_train)}\")\n",
    "\n",
    "# Si son iguales, realiza la división\n",
    "X_train, X_val, y_train, y_val = train_test_split(X_train, y_train, test_size=0.2, random_state=42)\n"
   ]
  },
  {
   "cell_type": "code",
   "execution_count": 146,
   "metadata": {},
   "outputs": [
    {
     "name": "stdout",
     "output_type": "stream",
     "text": [
      "Epoch 1/40\n",
      "217/217 [==============================] - 7s 28ms/step - loss: 2.7171 - accuracy: 0.1182 - val_loss: 2.6142 - val_accuracy: 0.1657\n",
      "Epoch 2/40\n",
      "217/217 [==============================] - 6s 27ms/step - loss: 2.5872 - accuracy: 0.1483 - val_loss: 2.5215 - val_accuracy: 0.1498\n",
      "Epoch 3/40\n",
      "217/217 [==============================] - 6s 26ms/step - loss: 2.5034 - accuracy: 0.1804 - val_loss: 2.4322 - val_accuracy: 0.2382\n",
      "Epoch 4/40\n",
      "217/217 [==============================] - 6s 26ms/step - loss: 2.4291 - accuracy: 0.2006 - val_loss: 2.3677 - val_accuracy: 0.2553\n",
      "Epoch 5/40\n",
      "217/217 [==============================] - 6s 26ms/step - loss: 2.3614 - accuracy: 0.2298 - val_loss: 2.3014 - val_accuracy: 0.2507\n",
      "Epoch 6/40\n",
      "217/217 [==============================] - 6s 27ms/step - loss: 2.3013 - accuracy: 0.2611 - val_loss: 2.2404 - val_accuracy: 0.3614\n",
      "Epoch 7/40\n",
      "217/217 [==============================] - 6s 27ms/step - loss: 2.2425 - accuracy: 0.2955 - val_loss: 2.1877 - val_accuracy: 0.3238\n",
      "Epoch 8/40\n",
      "217/217 [==============================] - 6s 26ms/step - loss: 2.1923 - accuracy: 0.3143 - val_loss: 2.1361 - val_accuracy: 0.3400\n",
      "Epoch 9/40\n",
      "217/217 [==============================] - 6s 28ms/step - loss: 2.1402 - accuracy: 0.3258 - val_loss: 2.0837 - val_accuracy: 0.3779\n",
      "Epoch 10/40\n",
      "217/217 [==============================] - 6s 30ms/step - loss: 2.0983 - accuracy: 0.3310 - val_loss: 2.0391 - val_accuracy: 0.4059\n",
      "Epoch 11/40\n",
      "217/217 [==============================] - 6s 28ms/step - loss: 2.0600 - accuracy: 0.3608 - val_loss: 1.9979 - val_accuracy: 0.3900\n",
      "Epoch 12/40\n",
      "217/217 [==============================] - 6s 27ms/step - loss: 2.0127 - accuracy: 0.3700 - val_loss: 1.9606 - val_accuracy: 0.4279\n",
      "Epoch 13/40\n",
      "217/217 [==============================] - 6s 28ms/step - loss: 1.9784 - accuracy: 0.3790 - val_loss: 1.9307 - val_accuracy: 0.4102\n",
      "Epoch 14/40\n",
      "217/217 [==============================] - 6s 29ms/step - loss: 1.9441 - accuracy: 0.3868 - val_loss: 1.8874 - val_accuracy: 0.4180\n",
      "Epoch 15/40\n",
      "217/217 [==============================] - 6s 29ms/step - loss: 1.8993 - accuracy: 0.3940 - val_loss: 1.8436 - val_accuracy: 0.4449\n",
      "Epoch 16/40\n",
      "217/217 [==============================] - 6s 27ms/step - loss: 1.8714 - accuracy: 0.4056 - val_loss: 1.8083 - val_accuracy: 0.4533\n",
      "Epoch 17/40\n",
      "217/217 [==============================] - 6s 28ms/step - loss: 1.8375 - accuracy: 0.4232 - val_loss: 1.7788 - val_accuracy: 0.4545\n",
      "Epoch 18/40\n",
      "217/217 [==============================] - 6s 27ms/step - loss: 1.8046 - accuracy: 0.4279 - val_loss: 1.7478 - val_accuracy: 0.4423\n",
      "Epoch 19/40\n",
      "217/217 [==============================] - 6s 27ms/step - loss: 1.7817 - accuracy: 0.4354 - val_loss: 1.7238 - val_accuracy: 0.4475\n",
      "Epoch 20/40\n",
      "217/217 [==============================] - 6s 27ms/step - loss: 1.7590 - accuracy: 0.4354 - val_loss: 1.6922 - val_accuracy: 0.4718\n",
      "Epoch 21/40\n",
      "217/217 [==============================] - 6s 27ms/step - loss: 1.7307 - accuracy: 0.4481 - val_loss: 1.6645 - val_accuracy: 0.4678\n",
      "Epoch 22/40\n",
      "217/217 [==============================] - 6s 27ms/step - loss: 1.6969 - accuracy: 0.4631 - val_loss: 1.6460 - val_accuracy: 0.4669\n",
      "Epoch 23/40\n",
      "217/217 [==============================] - 6s 27ms/step - loss: 1.6780 - accuracy: 0.4623 - val_loss: 1.6239 - val_accuracy: 0.4863\n",
      "Epoch 24/40\n",
      "217/217 [==============================] - 6s 27ms/step - loss: 1.6512 - accuracy: 0.4655 - val_loss: 1.5982 - val_accuracy: 0.5033\n",
      "Epoch 25/40\n",
      "217/217 [==============================] - 6s 27ms/step - loss: 1.6272 - accuracy: 0.4825 - val_loss: 1.5693 - val_accuracy: 0.5363\n",
      "Epoch 26/40\n",
      "217/217 [==============================] - 6s 28ms/step - loss: 1.6039 - accuracy: 0.4825 - val_loss: 1.5465 - val_accuracy: 0.5392\n",
      "Epoch 27/40\n",
      "217/217 [==============================] - 6s 27ms/step - loss: 1.5829 - accuracy: 0.4996 - val_loss: 1.5198 - val_accuracy: 0.5395\n",
      "Epoch 28/40\n",
      "217/217 [==============================] - 6s 27ms/step - loss: 1.5641 - accuracy: 0.4958 - val_loss: 1.5058 - val_accuracy: 0.5215\n",
      "Epoch 29/40\n",
      "217/217 [==============================] - 6s 27ms/step - loss: 1.5382 - accuracy: 0.5207 - val_loss: 1.4854 - val_accuracy: 0.5279\n",
      "Epoch 30/40\n",
      "217/217 [==============================] - 6s 27ms/step - loss: 1.5278 - accuracy: 0.5059 - val_loss: 1.4618 - val_accuracy: 0.5588\n",
      "Epoch 31/40\n",
      "217/217 [==============================] - 6s 27ms/step - loss: 1.5065 - accuracy: 0.5227 - val_loss: 1.4461 - val_accuracy: 0.5658\n",
      "Epoch 32/40\n",
      "217/217 [==============================] - 6s 27ms/step - loss: 1.4755 - accuracy: 0.5250 - val_loss: 1.4253 - val_accuracy: 0.5551\n",
      "Epoch 33/40\n",
      "217/217 [==============================] - 6s 26ms/step - loss: 1.4681 - accuracy: 0.5409 - val_loss: 1.4027 - val_accuracy: 0.5597\n",
      "Epoch 34/40\n",
      "217/217 [==============================] - 6s 27ms/step - loss: 1.4536 - accuracy: 0.5366 - val_loss: 1.3833 - val_accuracy: 0.5744\n",
      "Epoch 35/40\n",
      "217/217 [==============================] - 6s 28ms/step - loss: 1.4359 - accuracy: 0.5400 - val_loss: 1.3853 - val_accuracy: 0.5782\n",
      "Epoch 36/40\n",
      "217/217 [==============================] - 6s 26ms/step - loss: 1.4183 - accuracy: 0.5536 - val_loss: 1.3513 - val_accuracy: 0.5996\n",
      "Epoch 37/40\n",
      "217/217 [==============================] - 6s 26ms/step - loss: 1.3909 - accuracy: 0.5629 - val_loss: 1.3307 - val_accuracy: 0.6034\n",
      "Epoch 38/40\n",
      "217/217 [==============================] - 6s 26ms/step - loss: 1.3922 - accuracy: 0.5519 - val_loss: 1.3221 - val_accuracy: 0.6117\n",
      "Epoch 39/40\n",
      "217/217 [==============================] - 6s 27ms/step - loss: 1.3735 - accuracy: 0.5646 - val_loss: 1.3033 - val_accuracy: 0.6158\n",
      "Epoch 40/40\n",
      "217/217 [==============================] - 6s 26ms/step - loss: 1.3609 - accuracy: 0.5669 - val_loss: 1.2912 - val_accuracy: 0.6302\n"
     ]
    }
   ],
   "source": [
    "cnn_model = create_optimized_cnn(input_shape=(32, 32, 3), num_classes=len(label_encoder.classes_),learning_rate=0.00008)\n",
    "\n",
    "history = cnn_model.fit(X_train, y_train, validation_data=(X_train, y_train), epochs=40, batch_size=16)"
   ]
  },
  {
   "cell_type": "code",
   "execution_count": 147,
   "metadata": {},
   "outputs": [
    {
     "data": {
      "image/png": "[encoded data removed]",
      "text/plain": [
       "<Figure size 1000x500 with 1 Axes>"
      ]
     },
     "metadata": {},
     "output_type": "display_data"
    }
   ],
   "source": [
    "# Graficar la pérdida\n",
    "plt.figure(figsize=(10, 5))\n",
    "plt.plot(history.history['loss'], label='Pérdida de Entrenamiento', color='blue')\n",
    "plt.plot(history.history['val_loss'], label='Pérdida de Validación', color='orange')\n",
    "plt.title('Pérdida del Modelo')\n",
    "plt.xlabel('Épocas')\n",
    "plt.ylabel('Pérdida')\n",
    "plt.legend()\n",
    "plt.grid()\n",
    "plt.show()\n"
   ]
  },
  {
   "cell_type": "code",
   "execution_count": 149,
   "metadata": {},
   "outputs": [
    {
     "name": "stdout",
     "output_type": "stream",
     "text": [
      "28/28 [==============================] - 0s 6ms/step - loss: 1.5272 - accuracy: 0.5133\n",
      "CNN Validation Accuracy: 0.5132948160171509\n",
      "28/28 [==============================] - 0s 6ms/step\n"
     ]
    }
   ],
   "source": [
    "# Evaluate CNN\n",
    "cnn_val_loss, cnn_val_accuracy = cnn_model.evaluate(X_val, y_val)\n",
    "print(\"CNN Validation Accuracy:\", cnn_val_accuracy)\n",
    "\n",
    "# Confusion Matrix for CNN\n",
    "cnn_val_pred = cnn_model.predict(X_val)\n",
    "cnn_val_pred_classes = np.argmax(cnn_val_pred, axis=1)\n",
    "\n",
    "cnn_cm = confusion_matrix(y_val, cnn_val_pred_classes)\n",
    "plt.figure(figsize=(10,7))\n",
    "sns.heatmap(cnn_cm, annot=True, fmt='d', \n",
    "            xticklabels=label_encoder.classes_, \n",
    "            yticklabels=label_encoder.classes_)\n",
    "plt.title('CNN Confusion Matrix')\n",
    "plt.xlabel('Predicted')\n",
    "plt.ylabel('Actual')\n",
    "plt.tight_layout()\n",
    "plt.savefig('cnn_confusion_matrix.png')\n",
    "plt.close()\n",
    "    \n",
    "    "
   ]
  },
  {
   "cell_type": "code",
   "execution_count": null,
   "metadata": {},
   "outputs": [],
   "source": [
    "def prepare_submission(model, model_type, label_encoder):\n",
    "    # Cargar rutas de imágenes de prueba\n",
    "    test_image_paths = glob.glob('../datos/test/*.png')\n",
    "    test_images, _, _ = load_and_preprocess_images(test_image_paths, None)  # Se pasa None en lugar del codificador de etiquetas\n",
    "\n",
    "    # Predicción\n",
    "    if model_type == 'lr':\n",
    "        test_pred = model.predict(test_images.reshape(test_images.shape[0], -1))\n",
    "    else:  # CNN\n",
    "        test_pred = np.argmax(model.predict(test_images), axis=1)\n",
    "\n",
    "    # Convertir predicciones al formato original de etiquetas\n",
    "    test_pred_labels = label_encoder.inverse_transform(test_pred)\n",
    "\n",
    "    # Crear el DataFrame de resultados\n",
    "    submission_df = pd.DataFrame({\n",
    "        'file': [os.path.basename(path) for path in test_image_paths],\n",
    "        'species': test_pred_labels\n",
    "    })\n",
    "\n",
    "    # Guardar los resultados\n",
    "    submission_df.to_csv(f'../resultados/{model_type}_submission.csv', index=False)\n",
    "    print(f\"Archivo de resultados guardado como: {model_type}_submission.csv\")\n",
    "\n",
    "# Llamada a la función para crear el archivo de resultados\n",
    "prepare_submission(cnn_model, 'cnn', label_encoder)\n"
   ]
  }
 ],
 "metadata": {
  "kernelspec": {
   "display_name": "Python 3",
   "language": "python",
   "name": "python3"
  },
  "language_info": {
   "codemirror_mode": {
    "name": "ipython",
    "version": 3
   },
   "file_extension": ".py",
   "mimetype": "text/x-python",
   "name": "python",
   "nbconvert_exporter": "python",
   "pygments_lexer": "ipython3",
   "version": "3.9.7"
  }
 },
 "nbformat": 4,
 "nbformat_minor": 2
}
