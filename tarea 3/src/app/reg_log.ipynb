{
 "cells": [
  {
   "cell_type": "code",
   "execution_count": null,
   "metadata": {},
   "outputs": [],
   "source": [
    "import os\n",
    "import numpy as np\n",
    "import pandas as pd\n",
    "import tensorflow as tf\n",
    "from tensorflow import keras\n",
    "from tensorflow.keras import layers # type: ignore\n",
    "from sklearn.model_selection import train_test_split\n",
    "from sklearn.preprocessing import LabelEncoder\n",
    "from sklearn.linear_model import LogisticRegression\n",
    "from tensorflow import keras\n",
    "from tensorflow.keras import layers, regularizers\n",
    "from tensorflow.keras.optimizers import Adam\n",
    "from tensorflow.keras.callbacks import ReduceLROnPlateau, EarlyStopping\n",
    "from sklearn.metrics import accuracy_score, confusion_matrix\n",
    "import glob\n",
    "import cv2\n",
    "import matplotlib.pyplot as plt\n",
    "import seaborn as sns\n"
   ]
  },
  {
   "cell_type": "code",
   "execution_count": 253,
   "metadata": {},
   "outputs": [
    {
     "name": "stdout",
     "output_type": "stream",
     "text": [
      "Tamaño de X_augmented: (27030, 32, 32, 3), Tamaño de y_augmented: 27030\n"
     ]
    },
    {
     "data": {
      "image/png": "[encoded data removed]",
      "text/plain": [
       "<Figure size 1000x1000 with 5 Axes>"
      ]
     },
     "metadata": {},
     "output_type": "display_data"
    }
   ],
   "source": [
    "import os\n",
    "import cv2\n",
    "import numpy as np\n",
    "import matplotlib.pyplot as plt\n",
    "from sklearn.preprocessing import LabelEncoder\n",
    "import glob\n",
    "\n",
    "# Definición de constantes\n",
    "IMAGE_SIZE = (32, 32)  # Tamaño estándar para muchos modelos de CNN\n",
    "NUM_CLASSES = 16  # Actualiza según tu conjunto de datos específico\n",
    "\n",
    "# Función para cargar y preprocesar imágenes\n",
    "def load_and_preprocess_images(image_paths, label_encoder=None):\n",
    "    images = []\n",
    "    labels = []\n",
    "    \n",
    "    for path in image_paths:\n",
    "        # Extraer etiqueta del path\n",
    "        label = path.split(os.path.sep)[-2]\n",
    "        \n",
    "        # Leer imagen\n",
    "        img = cv2.imread(path)\n",
    "        img = cv2.resize(img, IMAGE_SIZE)\n",
    "        img = cv2.cvtColor(img, cv2.COLOR_BGR2RGB)\n",
    "        \n",
    "        # Normalizar valores de píxeles\n",
    "        img = img / 255.0\n",
    "        \n",
    "        images.append(img)\n",
    "        labels.append(label)\n",
    "    \n",
    "    # Codificar etiquetas\n",
    "    if label_encoder is None:\n",
    "        label_encoder = LabelEncoder()\n",
    "        labels = label_encoder.fit_transform(labels)\n",
    "    else:\n",
    "        labels = label_encoder.transform(labels)\n",
    "    \n",
    "    return np.array(images), labels, label_encoder\n",
    "\n",
    "# Función para rotar imágenes\n",
    "def rotate_images(images, labels, angles):\n",
    "    rotated_images = []\n",
    "    rotated_labels = []\n",
    "\n",
    "    for img, label in zip(images, labels):\n",
    "        for angle in angles:\n",
    "            # Rotar imagen\n",
    "            h, w = img.shape[:2]\n",
    "            center = (w // 2, h // 2)\n",
    "            rotation_matrix = cv2.getRotationMatrix2D(center, angle, 1.0)\n",
    "            rotated_img = cv2.warpAffine(img, rotation_matrix, (w, h))\n",
    "            rotated_images.append(rotated_img)\n",
    "            rotated_labels.append(label)\n",
    "\n",
    "    return np.array(rotated_images), np.array(rotated_labels)\n",
    "\n",
    "# Cargar las rutas de las imágenes (modificar según la estructura de tu conjunto de datos)\n",
    "train_image_paths = glob.glob('../datos/train/**/*.png', recursive=True)\n",
    "\n",
    "# Preprocesar las imágenes de entrenamiento\n",
    "X_train, y_train, label_encoder = load_and_preprocess_images(train_image_paths)\n",
    "\n",
    "# Definir los ángulos para rotar las imágenes\n",
    "rotation_angles = [0, 90, 180, 270]  # Ángulos en grados\n",
    "\n",
    "# Rotar las imágenes y obtener nuevas imágenes y etiquetas\n",
    "X_rotated, y_rotated = rotate_images(X_train, y_train, rotation_angles)\n",
    "\n",
    "# Combinar las imágenes originales y rotadas\n",
    "X_augmented = np.concatenate((X_train, X_rotated), axis=0)\n",
    "y_augmented = np.concatenate((y_train, y_rotated), axis=0)\n",
    "\n",
    "# Imprimir tamaños del nuevo conjunto de entrenamiento\n",
    "print(f\"Tamaño de X_augmented: {X_augmented.shape}, Tamaño de y_augmented: {len(y_augmented)}\")\n",
    "\n",
    "# Mostrar algunas imágenes aumentadas\n",
    "num_images_to_show = 5  # Número de imágenes a mostrar\n",
    "plt.figure(figsize=(10, 10))\n",
    "for i in range(num_images_to_show):\n",
    "    plt.subplot(1, num_images_to_show, i + 1)\n",
    "    plt.imshow(X_augmented[i])  # Mostrar la imagen procesada\n",
    "    plt.title(label_encoder.inverse_transform([y_augmented[i]])[0])  # Muestra la etiqueta original\n",
    "    plt.axis('off')\n",
    "plt.show()\n"
   ]
  },
  {
   "cell_type": "code",
   "execution_count": 254,
   "metadata": {},
   "outputs": [
    {
     "name": "stdout",
     "output_type": "stream",
     "text": [
      "Longitud de X_train: 5406, Longitud de y_train: 5406\n",
      "Longitud de X_train: 21624, Longitud de y_train: 21624\n"
     ]
    }
   ],
   "source": [
    "# Verifica que el número de muestras sea el mismo\n",
    "print(f\"Longitud de X_train: {len(X_train)}, Longitud de y_train: {len(y_train)}\")\n",
    "\n",
    "# Si son iguales, realiza la división\n",
    "X_train, X_val, y_train, y_val = train_test_split(X_augmented, y_augmented, test_size=0.2, random_state=42)\n",
    "\n",
    "# Verifica que el número de muestras sea el mismo\n",
    "print(f\"Longitud de X_train: {len(X_train)}, Longitud de y_train: {len(y_train)}\")"
   ]
  },
  {
   "cell_type": "code",
   "execution_count": 256,
   "metadata": {},
   "outputs": [
    {
     "name": "stdout",
     "output_type": "stream",
     "text": [
      "Longitud de X_train: 17299, Longitud de y_train: 17299\n"
     ]
    }
   ],
   "source": [
    "# Verifica que el número de muestras sea el mismo\n",
    "print(f\"Longitud de X_train: {len(X_train)}, Longitud de y_train: {len(y_train)}\")\n",
    "\n",
    "# Si son iguales, realiza la división\n",
    "X_train, X_val, y_train, y_val = train_test_split(X_train, y_train, test_size=0.2, random_state=42)\n"
   ]
  },
  {
   "cell_type": "code",
   "execution_count": 257,
   "metadata": {},
   "outputs": [
    {
     "name": "stderr",
     "output_type": "stream",
     "text": [
      "c:\\Users\\CRISTIAN\\AppData\\Local\\Programs\\Python\\Python39\\lib\\site-packages\\sklearn\\linear_model\\_logistic.py:460: ConvergenceWarning: lbfgs failed to converge (status=1):\n",
      "STOP: TOTAL NO. of ITERATIONS REACHED LIMIT.\n",
      "\n",
      "Increase the number of iterations (max_iter) or scale the data as shown in:\n",
      "    https://scikit-learn.org/stable/modules/preprocessing.html\n",
      "Please also refer to the documentation for alternative solver options:\n",
      "    https://scikit-learn.org/stable/modules/linear_model.html#logistic-regression\n",
      "  n_iter_i = _check_optimize_result(\n"
     ]
    },
    {
     "name": "stdout",
     "output_type": "stream",
     "text": [
      "Model Accuracy: 0.534393063583815\n"
     ]
    }
   ],
   "source": [
    "# Import necessary libraries\n",
    "from tensorflow.keras.models import Sequential\n",
    "from tensorflow.keras.layers import Flatten, Dense\n",
    "from tensorflow.keras.optimizers import Adam\n",
    "from sklearn.linear_model import LogisticRegression\n",
    "from sklearn.metrics import accuracy_score\n",
    "from sklearn.preprocessing import StandardScaler\n",
    "from sklearn.model_selection import GridSearchCV\n",
    "\n",
    "# Reshape the data to be compatible with Logistic Regression (2D array)\n",
    "X_train = X_train.reshape(X_train.shape[0], -1)\n",
    "X_val = X_val.reshape(X_val.shape[0], -1)\n",
    "\n",
    "# Optionally scale the data to improve convergence and performance\n",
    "scaler = StandardScaler()\n",
    "X_train_scaled = scaler.fit_transform(X_train)\n",
    "X_val_scaled = scaler.transform(X_val)\n",
    "\n",
    "\n",
    "log_reg = LogisticRegression(max_iter=400, solver=\"lbfgs\", random_state=0, C=0.01)  # \"multi_class='multinomial'\" is optional now\n",
    "log_reg.fit(X_train_scaled, y_train)\n",
    "\n",
    "y_pred = log_reg.predict(X_val_scaled)\n",
    "accuracy = accuracy_score(y_val, y_pred)\n",
    "\n",
    "# Print the accuracy\n",
    "print(\"Model Accuracy:\", accuracy)"
   ]
  },
  {
   "cell_type": "code",
   "execution_count": 258,
   "metadata": {},
   "outputs": [
    {
     "name": "stdout",
     "output_type": "stream",
     "text": [
      "Confusion Matrix:\n",
      "[[ 45   0   0   0   5   7  80   0   1   0   0   3   2   0   0   0]\n",
      " [  0 176   9   7   0   7   0   0  13   7  30  10   0   0   0   0]\n",
      " [  3   8 110   2   5   6  13   0  13   3   8   8   0   0   0   0]\n",
      " [  0   5   5 224   2  16   1  20  64  10   5  11   1   0   0   0]\n",
      " [  9   3  11   2  30  17  53   0   3   0   0   3   0   0   0   0]\n",
      " [ 16   3   3  23   8 140  76   3  10   2  18  22   0   0   0   0]\n",
      " [ 34   0  12   2  15  29 300   0   0   0   2  19   5   0   1   2]\n",
      " [  0   6   1  49   1   8   0  57  24  15   2   7   1   0   0   0]\n",
      " [  0   6   8  50   9  14  12   5 206   5   0   9   0   0   0   1]\n",
      " [  0   4   5  23   0   6   0   6  23  46  20   0   0   0   0   0]\n",
      " [  0  24   1  10   1   9   2   6   4   8 251   8   0   0   0   0]\n",
      " [  4   1   7  22   6  51  28   0  19   0   8  96   3   0   3   3]\n",
      " [  4   0   2   1   1   0   8   1   0   0   1   3  46  10  23   8]\n",
      " [  2   3   0   1   0   2   5   0   0   0   3   2  12  41  21  13]\n",
      " [  1   0   4   1   2   5   8   5   1   0   1   3  16  15  40  12]\n",
      " [  1   1   4   2   1   1  13   0   0   0   4   5  10  10  15  41]]\n"
     ]
    }
   ],
   "source": [
    "from sklearn.metrics import confusion_matrix\n",
    "\n",
    "# Calcular la matriz de confusión\n",
    "conf_matrix = confusion_matrix(y_val, y_pred)\n",
    "\n",
    "# Imprimir la matriz de confusión\n",
    "print(\"Confusion Matrix:\")\n",
    "print(conf_matrix)\n"
   ]
  },
  {
   "cell_type": "code",
   "execution_count": 259,
   "metadata": {},
   "outputs": [
    {
     "name": "stdout",
     "output_type": "stream",
     "text": [
      "Archivo de resultados guardado como: lr_submission.csv\n"
     ]
    }
   ],
   "source": [
    "import os\n",
    "import glob\n",
    "import numpy as np\n",
    "import pandas as pd\n",
    "\n",
    "def prepare_submission(model, model_type, label_encoder):\n",
    "    # Cargar rutas de imágenes de prueba\n",
    "    test_image_paths = glob.glob('../datos/test/*.png')\n",
    "    test_images, _, _ = load_and_preprocess_images(test_image_paths, None)  # Se pasa None en lugar del codificador de etiquetas\n",
    "\n",
    "    # Predicción\n",
    "    if model_type == 'lr':\n",
    "        # Asegúrate de que las imágenes se ajusten al formato necesario para la regresión logística (2D)\n",
    "        test_images_flattened = test_images.reshape(test_images.shape[0], -1)  # Flatten las imágenes para regresión logística\n",
    "        test_pred = model.predict(test_images_flattened)  # Predicción con regresión logística\n",
    "        # Si la regresión logística usa probabilidades, convertimos a etiquetas de clase\n",
    "        test_pred = np.argmax(test_pred, axis=1) if test_pred.ndim > 1 else test_pred  # Asegurarse de que las predicciones son etiquetas\n",
    "    else:  # En caso de ser CNN\n",
    "        test_pred = np.argmax(model.predict(test_images), axis=1)\n",
    "\n",
    "    # Convertir predicciones al formato original de etiquetas\n",
    "    test_pred_labels = label_encoder.inverse_transform(test_pred)\n",
    "\n",
    "    # Crear el DataFrame de resultados\n",
    "    submission_df = pd.DataFrame({\n",
    "        'file': [os.path.basename(path) for path in test_image_paths],\n",
    "        'species': test_pred_labels\n",
    "    })\n",
    "\n",
    "    # Asegurarse de que el directorio de resultados exista\n",
    "    results_dir = '../resultados'\n",
    "    if not os.path.exists(results_dir):\n",
    "        os.makedirs(results_dir)\n",
    "\n",
    "    # Guardar los resultados\n",
    "    submission_df.to_csv(f'{results_dir}/{model_type}_submission.csv', index=False)\n",
    "    print(f\"Archivo de resultados guardado como: {model_type}_submission.csv\")\n",
    "\n",
    "# Llamada a la función para crear el archivo de resultados\n",
    "prepare_submission(log_reg, 'lr', label_encoder)\n"
   ]
  }
 ],
 "metadata": {
  "kernelspec": {
   "display_name": "Python 3",
   "language": "python",
   "name": "python3"
  },
  "language_info": {
   "codemirror_mode": {
    "name": "ipython",
    "version": 3
   },
   "file_extension": ".py",
   "mimetype": "text/x-python",
   "name": "python",
   "nbconvert_exporter": "python",
   "pygments_lexer": "ipython3",
   "version": "3.9.7"
  }
 },
 "nbformat": 4,
 "nbformat_minor": 2
}
